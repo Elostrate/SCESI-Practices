{
 "cells": [
  {
   "cell_type": "code",
   "execution_count": 1,
   "id": "87b10d1a-a59f-4650-88f9-03ca73b59ec2",
   "metadata": {},
   "outputs": [],
   "source": [
    "import math"
   ]
  },
  {
   "cell_type": "code",
   "execution_count": 6,
   "id": "6aef38e4-c0fd-480a-90de-47aab5e572ab",
   "metadata": {},
   "outputs": [],
   "source": [
    "import statistics as stast"
   ]
  },
  {
   "cell_type": "code",
   "execution_count": 7,
   "id": "ca8be6fa-e7b1-42b7-ad52-c275a4fb207e",
   "metadata": {},
   "outputs": [],
   "source": [
    "calificaciones = [68, 90, 80, 45, 75, 64, 80, 70, 90, 100, 55]"
   ]
  },
  {
   "cell_type": "code",
   "execution_count": 15,
   "id": "c4137270-ad65-483d-ba21-7b8fad936a63",
   "metadata": {},
   "outputs": [
    {
     "data": {
      "text/plain": [
       "74.27272727272727"
      ]
     },
     "execution_count": 15,
     "metadata": {},
     "output_type": "execute_result"
    }
   ],
   "source": [
    "#Promedio de la suma de calificaciones\n",
    "stast.mean(calificaciones)"
   ]
  },
  {
   "cell_type": "code",
   "execution_count": 14,
   "id": "54d369ef-7511-45a8-93f5-0ff6d99add88",
   "metadata": {},
   "outputs": [
    {
     "data": {
      "text/plain": [
       "75"
      ]
     },
     "execution_count": 14,
     "metadata": {},
     "output_type": "execute_result"
    }
   ],
   "source": [
    "#La media entre los valores de calificaciones\n",
    "stast.median(calificaciones)"
   ]
  },
  {
   "cell_type": "code",
   "execution_count": 13,
   "id": "db9428c5-6332-4d62-b271-d2ac45bd030e",
   "metadata": {},
   "outputs": [
    {
     "data": {
      "text/plain": [
       "90"
      ]
     },
     "execution_count": 13,
     "metadata": {},
     "output_type": "execute_result"
    }
   ],
   "source": [
    "#La que mas se repite\n",
    "stast.mode(calificaciones)"
   ]
  },
  {
   "cell_type": "code",
   "execution_count": 16,
   "id": "3c125f24-f861-48f2-864b-9ba8e973832c",
   "metadata": {},
   "outputs": [
    {
     "data": {
      "text/plain": [
       "55"
      ]
     },
     "execution_count": 16,
     "metadata": {},
     "output_type": "execute_result"
    }
   ],
   "source": [
    "max(calificaciones) - min(calificaciones)"
   ]
  },
  {
   "cell_type": "code",
   "execution_count": 18,
   "id": "4576c534-2278-4c2e-b2b8-faad85febb13",
   "metadata": {},
   "outputs": [
    {
     "data": {
      "text/plain": [
       "16.168431643736564"
      ]
     },
     "execution_count": 18,
     "metadata": {},
     "output_type": "execute_result"
    }
   ],
   "source": [
    "#Desviacion estandar muestral\n",
    "stast.stdev(calificaciones)"
   ]
  },
  {
   "cell_type": "code",
   "execution_count": 19,
   "id": "5726878d-e23e-4ef1-94f9-cabef7706f31",
   "metadata": {},
   "outputs": [
    {
     "data": {
      "text/plain": [
       "15.415994699077432"
      ]
     },
     "execution_count": 19,
     "metadata": {},
     "output_type": "execute_result"
    }
   ],
   "source": [
    "#Desviacion estandar poblacional\n",
    "stast.pstdev(calificaciones)"
   ]
  },
  {
   "cell_type": "code",
   "execution_count": 21,
   "id": "9f83d4cf-1ecc-49d5-848b-1dcb3ca3c2b4",
   "metadata": {},
   "outputs": [
    {
     "data": {
      "text/plain": [
       "237.65289256198346"
      ]
     },
     "execution_count": 21,
     "metadata": {},
     "output_type": "execute_result"
    }
   ],
   "source": [
    "#Varianza poblacional\n",
    "stast.pvariance(calificaciones)"
   ]
  },
  {
   "cell_type": "code",
   "execution_count": 22,
   "id": "b03cb64a-2928-45cb-ba81-f0853017c26c",
   "metadata": {},
   "outputs": [
    {
     "data": {
      "text/plain": [
       "261.41818181818184"
      ]
     },
     "execution_count": 22,
     "metadata": {},
     "output_type": "execute_result"
    }
   ],
   "source": [
    "#Varianza muestral\n",
    "stast.variance(calificaciones)"
   ]
  },
  {
   "cell_type": "code",
   "execution_count": null,
   "id": "548bc2d1-eccc-4cbd-bfdd-a2f61e8105cc",
   "metadata": {},
   "outputs": [],
   "source": []
  }
 ],
 "metadata": {
  "kernelspec": {
   "display_name": "Python 3 (ipykernel)",
   "language": "python",
   "name": "python3"
  },
  "language_info": {
   "codemirror_mode": {
    "name": "ipython",
    "version": 3
   },
   "file_extension": ".py",
   "mimetype": "text/x-python",
   "name": "python",
   "nbconvert_exporter": "python",
   "pygments_lexer": "ipython3",
   "version": "3.9.13"
  }
 },
 "nbformat": 4,
 "nbformat_minor": 5
}
