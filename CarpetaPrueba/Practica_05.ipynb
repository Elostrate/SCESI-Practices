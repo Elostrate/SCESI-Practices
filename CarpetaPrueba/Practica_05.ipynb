{
 "cells": [
  {
   "cell_type": "code",
   "execution_count": 1,
   "id": "153fedb4-9f64-47c3-9fad-55ec5bec9680",
   "metadata": {},
   "outputs": [],
   "source": [
    "def raizCuadrada(numero):\n",
    "    \"\"\"Funcion que saca la raiz cuadrada\"\"\"\n",
    "    return numero ** (1/2)"
   ]
  },
  {
   "cell_type": "code",
   "execution_count": 2,
   "id": "9442cf3d-07db-4bd4-89bf-c952d7ac35ca",
   "metadata": {},
   "outputs": [
    {
     "data": {
      "text/plain": [
       "2.0"
      ]
     },
     "execution_count": 2,
     "metadata": {},
     "output_type": "execute_result"
    }
   ],
   "source": [
    "raizCuadrada(4)"
   ]
  },
  {
   "cell_type": "code",
   "execution_count": 3,
   "id": "ff0aaf6d-939c-4ebf-88f0-194757af149d",
   "metadata": {},
   "outputs": [
    {
     "data": {
      "text/plain": [
       "\u001b[1;31mSignature:\u001b[0m \u001b[0mraizCuadrada\u001b[0m\u001b[1;33m(\u001b[0m\u001b[0mnumero\u001b[0m\u001b[1;33m)\u001b[0m\u001b[1;33m\u001b[0m\u001b[1;33m\u001b[0m\u001b[0m\n",
       "\u001b[1;31mDocstring:\u001b[0m Funcion que saca la raiz cuadrada\n",
       "\u001b[1;31mFile:\u001b[0m      c:\\users\\arias\\appdata\\local\\temp\\ipykernel_3132\\1344614233.py\n",
       "\u001b[1;31mType:\u001b[0m      function\n"
      ]
     },
     "metadata": {},
     "output_type": "display_data"
    }
   ],
   "source": [
    "raizCuadrada?"
   ]
  },
  {
   "cell_type": "code",
   "execution_count": 4,
   "id": "15634000-d034-4eed-a31d-687290934970",
   "metadata": {},
   "outputs": [],
   "source": [
    "def mayorRaiz(num1, num2, num3):\n",
    "    \"\"\"Calculamos la raiz mayor de 3 numeros\"\"\"\n",
    "    raiz1 = num1 ** (1/2)\n",
    "    raiz2 = num2 ** (1/2)\n",
    "    raiz3 = num3 ** (1/2)\n",
    "    raizMayor = 0\n",
    "    if(raiz1 > raiz2):\n",
    "        if(raiz1 > raiz3):\n",
    "            raizMayor = raiz1;\n",
    "        else:\n",
    "            raizMayor = raiz3;\n",
    "    elif(raiz2 > raiz3):\n",
    "        raizMayor = raiz2\n",
    "    else:\n",
    "        raizMayor = raiz3\n",
    "        \n",
    "    return raizMayor\n"
   ]
  },
  {
   "cell_type": "code",
   "execution_count": 5,
   "id": "cdafd39b-46f3-489c-869f-83e0f32b1a82",
   "metadata": {},
   "outputs": [
    {
     "data": {
      "text/plain": [
       "9.0"
      ]
     },
     "execution_count": 5,
     "metadata": {},
     "output_type": "execute_result"
    }
   ],
   "source": [
    "mayorRaiz(64,36,81)"
   ]
  },
  {
   "cell_type": "markdown",
   "id": "31d8e20d-dab9-49da-a40d-7fed4aeadfc1",
   "metadata": {},
   "source": [
    "IMPORTAR RANDOM"
   ]
  },
  {
   "cell_type": "code",
   "execution_count": 6,
   "id": "be7ac3b8-1cd4-4a84-a171-d303fa554afe",
   "metadata": {},
   "outputs": [],
   "source": [
    "import random"
   ]
  },
  {
   "cell_type": "code",
   "execution_count": 7,
   "id": "573a6d0c-a9e0-4c2c-b5c8-889d3e25de5d",
   "metadata": {},
   "outputs": [
    {
     "name": "stdout",
     "output_type": "stream",
     "text": [
      "1, 1, 1, 1, 0, 0, 0, 0, 0, 0, "
     ]
    }
   ],
   "source": [
    "for tirada in range(10):\n",
    "    print(random.randrange(0, 2), end = \", \")"
   ]
  },
  {
   "cell_type": "code",
   "execution_count": 16,
   "id": "76fac456-312a-4fbd-9b42-1b982aab3eb6",
   "metadata": {},
   "outputs": [
    {
     "name": "stdout",
     "output_type": "stream",
     "text": [
      "1=Cara, 0=Cruz    Frecuencia\n",
      "             1        49854\n",
      "             0        50146\n"
     ]
    }
   ],
   "source": [
    "contadorCara = 0\n",
    "contadorCruz = 0\n",
    "\n",
    "for tiro in range (100000):\n",
    "    resultado = random.randrange(0,2)\n",
    "    if(resultado == 1):\n",
    "        contadorCara += 1\n",
    "    elif resultado == 0:\n",
    "        contadorCruz += 1;\n",
    "\n",
    "print(f'1=Cara, 0=Cruz {\"Frecuencia\":>13}')\n",
    "print(f'{1:>14}{contadorCara:>13}')\n",
    "print(f'{0:>14}{contadorCruz:>13}')"
   ]
  },
  {
   "cell_type": "markdown",
   "id": "ef9c14f5-8876-4803-8337-90ea4f24e5cc",
   "metadata": {},
   "source": [
    "FORZAR RESULTADOS DE SALIDA"
   ]
  },
  {
   "cell_type": "code",
   "execution_count": 9,
   "id": "bf70fba2-acf3-4ee4-b514-4b5d3ddba07e",
   "metadata": {},
   "outputs": [
    {
     "name": "stdout",
     "output_type": "stream",
     "text": [
      "0, 1, 1, 1, 1, 0, 1, 0, 0, 0, "
     ]
    }
   ],
   "source": [
    "random.seed(21)\n",
    "\n",
    "for tirada in range(10):\n",
    "    print(random.randrange(0, 2), end = \", \")"
   ]
  },
  {
   "cell_type": "markdown",
   "id": "9bd62d70-975d-4b01-982b-0667d65e4bb5",
   "metadata": {},
   "source": [
    "SIMULAR LANZAR 2 DADOS"
   ]
  },
  {
   "cell_type": "code",
   "execution_count": 10,
   "id": "1af525d1-be79-41b2-84eb-35bb9f098baa",
   "metadata": {},
   "outputs": [],
   "source": [
    "def lanzarDados():\n",
    "    dado1 = random.randrange(1, 7)\n",
    "    dado2 = random.randrange(1, 7)\n",
    "    return(dado1, dado2)\n"
   ]
  },
  {
   "cell_type": "code",
   "execution_count": 11,
   "id": "8bdee5f4-d9b0-4029-b3a4-28883c657d24",
   "metadata": {},
   "outputs": [],
   "source": [
    "def mostrarDados(dado):\n",
    "    dado1, dado2 = dado\n",
    "    print(f'El resultado es: {dado1} + {dado2} = {sum(dado)}')"
   ]
  },
  {
   "cell_type": "code",
   "execution_count": 12,
   "id": "039a5808-6427-42cd-a384-855f448d55be",
   "metadata": {},
   "outputs": [
    {
     "name": "stdout",
     "output_type": "stream",
     "text": [
      "El resultado es: 1 + 3 = 4\n",
      "Continual el juego, encuentra el gran 8\n"
     ]
    },
    {
     "data": {
      "text/plain": [
       "'Continuar'"
      ]
     },
     "execution_count": 12,
     "metadata": {},
     "output_type": "execute_result"
    }
   ],
   "source": [
    "valores_logrados = lanzarDados()\n",
    "mostrarDados(valores_logrados)\n",
    "\n",
    "suma_dados = sum(valores_logrados)\n",
    "\n",
    "if suma_dados == 8:\n",
    "    status_player = 'Ganaste'\n",
    "elif suma_dados == 7:\n",
    "    status_player = 'Perdiste'\n",
    "else:\n",
    "    status_player = 'Continuar'\n",
    "    print('Continual el juego, encuentra el gran 8')\n",
    "    \n",
    "status_player"
   ]
  },
  {
   "cell_type": "code",
   "execution_count": 13,
   "id": "c906ae00-3a5b-4514-8113-3227f197ff33",
   "metadata": {},
   "outputs": [
    {
     "name": "stdout",
     "output_type": "stream",
     "text": [
      "El resultado es: 5 + 4 = 9\n",
      "Continual el juego, encuentra el gran 8\n",
      "El resultado es: 1 + 2 = 3\n",
      "Continual el juego, encuentra el gran 8\n",
      "El resultado es: 2 + 2 = 4\n",
      "Continual el juego, encuentra el gran 8\n",
      "El resultado es: 6 + 1 = 7\n"
     ]
    },
    {
     "data": {
      "text/plain": [
       "'Perdiste'"
      ]
     },
     "execution_count": 13,
     "metadata": {},
     "output_type": "execute_result"
    }
   ],
   "source": [
    "valores_logrados = lanzarDados()\n",
    "mostrarDados(valores_logrados)\n",
    "\n",
    "suma_dados = sum(valores_logrados)\n",
    "\n",
    "if suma_dados == 8:\n",
    "    status_player = 'Ganaste'\n",
    "elif suma_dados == 7:\n",
    "    status_player = 'Perdiste'\n",
    "else:\n",
    "    status_player = 'Continuar'\n",
    "    print('Continual el juego, encuentra el gran 8')\n",
    "    \n",
    "while status_player == 'Continuar':\n",
    "    valores_logrados = lanzarDados()\n",
    "    mostrarDados(valores_logrados)\n",
    "\n",
    "    suma_dados = sum(valores_logrados)\n",
    "\n",
    "    if suma_dados == 8:\n",
    "        status_player = 'Ganaste'\n",
    "    elif suma_dados == 7:\n",
    "        status_player = 'Perdiste'\n",
    "    else:\n",
    "        status_player = 'Continuar'\n",
    "        print('Continual el juego, encuentra el gran 8')\n",
    "        \n",
    "status_player"
   ]
  },
  {
   "cell_type": "code",
   "execution_count": 14,
   "id": "8e812f71-8541-48b1-a686-efbd94c7c338",
   "metadata": {},
   "outputs": [],
   "source": [
    "def lanzarMoneda():\n",
    "    moneda = random.randrange(0, 2)\n",
    "    return(moneda)\n",
    "    "
   ]
  },
  {
   "cell_type": "code",
   "execution_count": 32,
   "id": "8583c848-e647-4a24-8fa5-8275dee7ddb2",
   "metadata": {},
   "outputs": [
    {
     "name": "stdout",
     "output_type": "stream",
     "text": [
      "1=Cara, 0=Cruz    Frecuencia\n",
      "             1           10\n",
      "             0           10\n"
     ]
    }
   ],
   "source": [
    "count = 0\n",
    "contCara = 0\n",
    "contCruz = 0\n",
    "\n",
    "while count < 20:\n",
    "    salidaMoneda = lanzarMoneda()\n",
    "    if salidaMoneda == 0:\n",
    "        contCara += 1\n",
    "    else:\n",
    "        contCruz += 1\n",
    "        \n",
    "    count = count + 1\n",
    "\n",
    "print(f'1=Cara, 0=Cruz {\"Frecuencia\":>13}')\n",
    "print(f'{1:>14}{contCara:>13}')\n",
    "print(f'{0:>14}{contCruz:>13}')"
   ]
  },
  {
   "cell_type": "code",
   "execution_count": 35,
   "id": "ca616200-e1aa-4b26-81e0-3d3138b7ed80",
   "metadata": {},
   "outputs": [
    {
     "name": "stdout",
     "output_type": "stream",
     "text": [
      "C, E, C, E, E, C, E, C, E, C, E, E, C, C, C, C, E, E, E, E, "
     ]
    }
   ],
   "source": [
    "for i in range(20):\n",
    "    print(\"C\" if random.randrange(2)==0 else \"E\", end=\", \")"
   ]
  },
  {
   "cell_type": "markdown",
   "id": "5d976e37-f854-493c-8796-8dafb0ac47d4",
   "metadata": {},
   "source": [
    "Si no envia un parametro se puede inicializar con algo para evitar errores"
   ]
  },
  {
   "cell_type": "code",
   "execution_count": 36,
   "id": "61e45325-9491-4fd4-b212-7faf35445b3d",
   "metadata": {},
   "outputs": [],
   "source": [
    "def raizCuadrada(numero=1):\n",
    "    \"\"\"Funcion que saca la raiz cuadrada\"\"\"\n",
    "    return numero ** (1/2)"
   ]
  },
  {
   "cell_type": "code",
   "execution_count": 38,
   "id": "64c10298-9b79-4458-8872-09d4b3d0edfd",
   "metadata": {},
   "outputs": [
    {
     "data": {
      "text/plain": [
       "1.0"
      ]
     },
     "execution_count": 38,
     "metadata": {},
     "output_type": "execute_result"
    }
   ],
   "source": [
    "raizCuadrada()"
   ]
  },
  {
   "cell_type": "code",
   "execution_count": 40,
   "id": "1e52e067-0f3e-46f8-96bd-2bcea7e51aa7",
   "metadata": {},
   "outputs": [],
   "source": [
    "def promedCalif(*calif):\n",
    "    promedio = sum(calif)/len(calif)\n",
    "    return promedio"
   ]
  },
  {
   "cell_type": "code",
   "execution_count": 41,
   "id": "d553c977-c844-49e6-a903-3fe271262fb4",
   "metadata": {},
   "outputs": [
    {
     "data": {
      "text/plain": [
       "75.66666666666667"
      ]
     },
     "execution_count": 41,
     "metadata": {},
     "output_type": "execute_result"
    }
   ],
   "source": [
    "promedCalif(55, 41, 99, 100, 75, 84)"
   ]
  },
  {
   "cell_type": "code",
   "execution_count": 53,
   "id": "e33e4343-2ff3-4e80-afa9-fad5ec07277b",
   "metadata": {},
   "outputs": [],
   "source": [
    "def multNum(*mulNum):\n",
    "    resultado = 1\n",
    "    for i in mulNum:\n",
    "        resultado = resultado * i\n",
    "    return resultado"
   ]
  },
  {
   "cell_type": "code",
   "execution_count": 54,
   "id": "44b64f96-133e-42ee-bf5d-8c9bbfed1d19",
   "metadata": {},
   "outputs": [
    {
     "data": {
      "text/plain": [
       "1680"
      ]
     },
     "execution_count": 54,
     "metadata": {},
     "output_type": "execute_result"
    }
   ],
   "source": [
    "multNum(5, 6, 7, 8)"
   ]
  },
  {
   "cell_type": "code",
   "execution_count": null,
   "id": "3bfd8001-d009-440c-8ef5-c6a05b64b8f5",
   "metadata": {},
   "outputs": [],
   "source": []
  }
 ],
 "metadata": {
  "kernelspec": {
   "display_name": "Python 3 (ipykernel)",
   "language": "python",
   "name": "python3"
  },
  "language_info": {
   "codemirror_mode": {
    "name": "ipython",
    "version": 3
   },
   "file_extension": ".py",
   "mimetype": "text/x-python",
   "name": "python",
   "nbconvert_exporter": "python",
   "pygments_lexer": "ipython3",
   "version": "3.9.13"
  }
 },
 "nbformat": 4,
 "nbformat_minor": 5
}
